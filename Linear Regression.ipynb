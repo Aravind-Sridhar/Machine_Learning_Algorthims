{
  "nbformat": 4,
  "nbformat_minor": 0,
  "metadata": {
    "colab": {
      "provenance": [],
      "authorship_tag": "ABX9TyMpQdPgFEvHQXzvKEWfXVo+"
    },
    "kernelspec": {
      "name": "python3",
      "display_name": "Python 3"
    },
    "language_info": {
      "name": "python"
    }
  },
  "cells": [
    {
      "cell_type": "code",
      "execution_count": 1,
      "metadata": {
        "id": "aZYpxh0gXPKg"
      },
      "outputs": [],
      "source": [
        "import pandas as pd\n",
        "from sklearn.datasets import load_boston"
      ]
    },
    {
      "cell_type": "code",
      "source": [],
      "metadata": {
        "id": "qRL8uZhEYzSd"
      },
      "execution_count": null,
      "outputs": []
    }
  ]
}