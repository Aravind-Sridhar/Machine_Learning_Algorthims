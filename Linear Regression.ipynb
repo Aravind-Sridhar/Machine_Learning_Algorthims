{
  "nbformat": 4,
  "nbformat_minor": 0,
  "metadata": {
    "colab": {
      "provenance": [],
      "authorship_tag": "ABX9TyM5MDi5kHxxyXc5eVo2BTa0"
    },
    "kernelspec": {
      "name": "python3",
      "display_name": "Python 3"
    },
    "language_info": {
      "name": "python"
    }
  },
  "cells": [
    {
      "cell_type": "code",
      "execution_count": null,
      "metadata": {
        "id": "aZYpxh0gXPKg"
      },
      "outputs": [],
      "source": []
    }
  ]
}